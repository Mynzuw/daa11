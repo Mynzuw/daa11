{
 "cells": [
  {
   "cell_type": "code",
   "execution_count": 1,
   "id": "140910c0",
   "metadata": {},
   "outputs": [],
   "source": [
    "# a -----b\n",
    "# |      |\n",
    "# |      |\n",
    "# c -----d-----e"
   ]
  },
  {
   "cell_type": "code",
   "execution_count": 2,
   "id": "9011f3f8",
   "metadata": {},
   "outputs": [
    {
     "name": "stdout",
     "output_type": "stream",
     "text": [
      "{'a': ['b', 'c'], 'b': ['a', 'd'], 'c': ['a', 'd'], 'd': ['e'], 'e': ['d']}\n"
     ]
    }
   ],
   "source": [
    "#Create the dictionary with graph elements\n",
    "graph = { \"a\" : [\"b\",\"c\"],\n",
    "        \"b\" : [\"a\",\"d\"],\n",
    "        \"c\" : [\"a\",\"d\"],\n",
    "        \"d\" : [\"e\"],\n",
    "        \"e\" : [\"d\"]\n",
    "        }\n",
    "#Print the graph\n",
    "print(graph)"
   ]
  },
  {
   "cell_type": "code",
   "execution_count": 7,
   "id": "a4d95b8a",
   "metadata": {},
   "outputs": [],
   "source": [
    "#Latihan\n",
    "#T----------U--------V\n",
    "#|                   |\n",
    "#W-------------------x\n",
    "#|                   |\n",
    "#Z                   s"
   ]
  },
  {
   "cell_type": "code",
   "execution_count": 8,
   "id": "a2bced89",
   "metadata": {},
   "outputs": [
    {
     "name": "stdout",
     "output_type": "stream",
     "text": [
      "{'T': ['U', 'W'], 'U': ['T', 'V'], 'V': ['U', 'X'], 'W': ['X', 'Z'], 'X': ['W', 'S'], 'Z': ['W'], 'S': ['X']}\n"
     ]
    }
   ],
   "source": [
    "graph = { \"T\" : [\"U\",\"W\"],\n",
    "         \"U\" : [\"T\",\"V\"],\n",
    "         \"V\" : [\"U\",\"X\"],\n",
    "         \"W\" : [\"T\",\"X\",\"Z\"],\n",
    "         \"X\" : [\"V\",\"W\",\"S\"],\n",
    "         \"Z\" : [\"W\"],\n",
    "         \"S\" : [\"X\"]\n",
    "        }\n",
    "#Print the graph\n",
    "print(graph)"
   ]
  },
  {
   "cell_type": "code",
   "execution_count": 10,
   "id": "f25eba7b",
   "metadata": {},
   "outputs": [],
   "source": [
    "#latihan\n",
    "#R----------O--------M\n",
    "#|          |        |\n",
    "#l-----------P---------N"
   ]
  },
  {
   "cell_type": "code",
   "execution_count": 12,
   "id": "ba0a396d",
   "metadata": {},
   "outputs": [
    {
     "name": "stdout",
     "output_type": "stream",
     "text": [
      "{'R': ['L', 'O'], 'O': ['R', 'P', 'M'], 'M': ['O', 'N'], 'L': ['R', 'P'], 'P': ['L', 'O', 'N'], 'N': ['P', 'M']}\n"
     ]
    }
   ],
   "source": [
    "graph = { \"R\" : [\"L\",\"O\"],\n",
    "        \"O\" : [\"R\",\"P\",\"M\"],\n",
    "        \"M\" : [\"O\",\"N\"],\n",
    "        \"L\" : [\"R\",\"P\"],\n",
    "        \"P\" : [\"L\",\"O\",\"N\"],\n",
    "        \"N\" : [\"P\",\"M\"]\n",
    "        }\n",
    "#Print the graph\n",
    "print(graph)"
   ]
  },
  {
   "cell_type": "code",
   "execution_count": 13,
   "id": "a9cd5672",
   "metadata": {},
   "outputs": [
    {
     "name": "stdout",
     "output_type": "stream",
     "text": [
      "['a', 'b', 'c', 'd', 'e']\n"
     ]
    }
   ],
   "source": [
    "class graph:\n",
    "    def __init__(self,gdict=None):\n",
    "        if gdict is None:\n",
    "            gdict = []\n",
    "        self.gdict = gdict\n",
    "\n",
    "# Get the keys of the dictionary\n",
    "    def getVertices(self):\n",
    "        return list(self.gdict.keys())\n",
    "\n",
    "# Create the dictionary with graph elements\n",
    "graph_elements = { \"a\" : [\"b\",\"c\"],\n",
    "                 \"b\" : [\"a\",\"d\"],\n",
    "                 \"c\" : [\"a\",\"d\"],\n",
    "                 \"d\" : [\"e\"],\n",
    "                 \"e\" : [\"d\"]\n",
    "                 }\n",
    "g = graph(graph_elements)\n",
    "\n",
    "print(g.getVertices())"
   ]
  },
  {
   "cell_type": "code",
   "execution_count": 14,
   "id": "e995a843",
   "metadata": {},
   "outputs": [
    {
     "name": "stdout",
     "output_type": "stream",
     "text": [
      "['T', 'U', 'V', 'W', 'X', 'Z', 'S']\n"
     ]
    }
   ],
   "source": [
    "class graph:\n",
    "    def __init__(self,gdict=None):\n",
    "        if gdict is None:\n",
    "            gdict = []\n",
    "        self.gdict = gdict\n",
    "\n",
    "# Get the keys of the dictionary\n",
    "    def getVertices(self):\n",
    "        return list(self.gdict.keys())\n",
    "\n",
    "# Create the dictionary with graph elements\n",
    "graph_elements = { \"T\" : [\"U\",\"W\"],\n",
    "         \"U\" : [\"T\",\"V\"],\n",
    "         \"V\" : [\"U\",\"X\"],\n",
    "         \"W\" : [\"T\",\"X\",\"Z\"],\n",
    "         \"X\" : [\"V\",\"W\",\"S\"],\n",
    "         \"Z\" : [\"W\"],\n",
    "         \"S\" : [\"X\"]\n",
    "        }\n",
    "g = graph(graph_elements)\n",
    "\n",
    "print(g.getVertices())"
   ]
  },
  {
   "cell_type": "code",
   "execution_count": 15,
   "id": "61c707e4",
   "metadata": {},
   "outputs": [
    {
     "name": "stdout",
     "output_type": "stream",
     "text": [
      "['R', 'O', 'M', 'L', 'P', 'N']\n"
     ]
    }
   ],
   "source": [
    "class graph:\n",
    "    def __init__(self,gdict=None):\n",
    "        if gdict is None:\n",
    "            gdict = []\n",
    "        self.gdict = gdict\n",
    "\n",
    "# Get the keys of the dictionary\n",
    "    def getVertices(self):\n",
    "        return list(self.gdict.keys())\n",
    "\n",
    "# Create the dictionary with graph elements\n",
    "graph_elements = { \"R\" : [\"L\",\"O\"],\n",
    "        \"O\" : [\"R\",\"P\",\"M\"],\n",
    "        \"M\" : [\"O\",\"N\"],\n",
    "        \"L\" : [\"R\",\"P\"],\n",
    "        \"P\" : [\"L\",\"O\",\"N\"],\n",
    "        \"N\" : [\"P\",\"M\"]\n",
    "        }\n",
    "g = graph(graph_elements)\n",
    "\n",
    "print(g.getVertices())"
   ]
  },
  {
   "cell_type": "code",
   "execution_count": 24,
   "id": "134aca7c",
   "metadata": {},
   "outputs": [
    {
     "name": "stdout",
     "output_type": "stream",
     "text": [
      "[{'a', 'b'}, {'a', 'c'}, {'b', 'd'}, {'c', 'd'}, {'e', 'd'}]\n"
     ]
    }
   ],
   "source": [
    "#Menampilkan sudut pada graph\n",
    "class graph:\n",
    "    def __init__(self,gdict=None):\n",
    "        if gdict is None:\n",
    "            gdict = {}\n",
    "        self.gdict = gdict\n",
    "        \n",
    "    def edges(self):\n",
    "        return self.findedges()\n",
    "    \n",
    "#Find the distinct list of edges\n",
    "    def findedges(self):\n",
    "        edgename = []\n",
    "        for vrtx in self.gdict:\n",
    "            for nxtvrtx in self.gdict[vrtx]:\n",
    "                if {nxtvrtx, vrtx} not in edgename:\n",
    "                    edgename.append({vrtx, nxtvrtx})\n",
    "        return edgename\n",
    "\n",
    "# Create the dictionary with graph elements\n",
    "graph_elements = { \"a\" : [\"b\",\"c\"],\n",
    "                 \"b\" : [\"a\",\"d\"],\n",
    "                 \"c\" : [\"a\",\"d\"],\n",
    "                 \"d\" : [\"e\"],\n",
    "                 \"e\" : [\"d\"]\n",
    "                 }\n",
    "\n",
    "g = graph(graph_elements)\n",
    "\n",
    "print(g.edges())"
   ]
  },
  {
   "cell_type": "code",
   "execution_count": 25,
   "id": "ed13c932",
   "metadata": {},
   "outputs": [
    {
     "name": "stdout",
     "output_type": "stream",
     "text": [
      "[{'T', 'U'}, {'W', 'T'}, {'V', 'U'}, {'X', 'V'}, {'X', 'W'}, {'Z', 'W'}, {'X', 'S'}]\n"
     ]
    }
   ],
   "source": [
    "#Latihan\n",
    "class graph:\n",
    "    def __init__(self,gdict=None):\n",
    "        if gdict is None:\n",
    "            gdict = {}\n",
    "        self.gdict = gdict\n",
    "        \n",
    "    def edges(self):\n",
    "        return self.findedges()\n",
    "    \n",
    "#Find the distinct list of edges\n",
    "    def findedges(self):\n",
    "        edgename = []\n",
    "        for vrtx in self.gdict:\n",
    "            for nxtvrtx in self.gdict[vrtx]:\n",
    "                if {nxtvrtx, vrtx} not in edgename:\n",
    "                    edgename.append({vrtx, nxtvrtx})\n",
    "        return edgename\n",
    "\n",
    "# Create the dictionary with graph elements\n",
    "graph_elements = { \"T\" : [\"U\",\"W\"],\n",
    "         \"U\" : [\"T\",\"V\"],\n",
    "         \"V\" : [\"U\",\"X\"],\n",
    "         \"W\" : [\"T\",\"X\",\"Z\"],\n",
    "         \"X\" : [\"V\",\"W\",\"S\"],\n",
    "         \"Z\" : [\"W\"],\n",
    "         \"S\" : [\"X\"]\n",
    "        }\n",
    "\n",
    "g = graph(graph_elements)\n",
    "\n",
    "print(g.edges())"
   ]
  },
  {
   "cell_type": "code",
   "execution_count": 26,
   "id": "a65588ba",
   "metadata": {},
   "outputs": [
    {
     "name": "stdout",
     "output_type": "stream",
     "text": [
      "[{'L', 'R'}, {'O', 'R'}, {'P', 'O'}, {'M', 'O'}, {'M', 'N'}, {'P', 'L'}, {'P', 'N'}]\n"
     ]
    }
   ],
   "source": [
    "#Latihan\n",
    "class graph:\n",
    "    def __init__(self,gdict=None):\n",
    "        if gdict is None:\n",
    "            gdict = {}\n",
    "        self.gdict = gdict\n",
    "        \n",
    "    def edges(self):\n",
    "        return self.findedges()\n",
    "    \n",
    "#Find the distinct list of edges\n",
    "    def findedges(self):\n",
    "        edgename = []\n",
    "        for vrtx in self.gdict:\n",
    "            for nxtvrtx in self.gdict[vrtx]:\n",
    "                if {nxtvrtx, vrtx} not in edgename:\n",
    "                    edgename.append({vrtx, nxtvrtx})\n",
    "        return edgename\n",
    "\n",
    "# Create the dictionary with graph elements\n",
    "graph_elements = { \"R\" : [\"L\",\"O\"],\n",
    "        \"O\" : [\"R\",\"P\",\"M\"],\n",
    "        \"M\" : [\"O\",\"N\"],\n",
    "        \"L\" : [\"R\",\"P\"],\n",
    "        \"P\" : [\"L\",\"O\",\"N\"],\n",
    "        \"N\" : [\"P\",\"M\"]\n",
    "        }\n",
    "\n",
    "g = graph(graph_elements)\n",
    "\n",
    "print(g.edges())"
   ]
  },
  {
   "cell_type": "code",
   "execution_count": 33,
   "id": "4e414d4c",
   "metadata": {},
   "outputs": [
    {
     "name": "stdout",
     "output_type": "stream",
     "text": [
      "['a', 'b', 'c', 'd', 'e', 'f']\n"
     ]
    }
   ],
   "source": [
    "#Menambah Vertex / simpul\n",
    "class graph:\n",
    "    def __init__(self,gdict=None):\n",
    "        if gdict is None:\n",
    "            gdict = {}\n",
    "        self.gdict = gdict\n",
    "    \n",
    "    def getVertices(self):\n",
    "        return list(self.gdict.keys())\n",
    "    \n",
    "# Add the vertex as a key\n",
    "    def addVertex(self, vrtx):\n",
    "        if vrtx not in self.gdict:\n",
    "            self.gdict[vrtx] = []\n",
    "            \n",
    "# Create the dictionary with graph elements\n",
    "graph_elements = { \"a\" : [\"b\",\"c\"],\n",
    "                 \"b\" : [\"a\",\"d\"],\n",
    "                 \"c\" : [\"a\",\"d\"],\n",
    "                 \"d\" : [\"e\"],\n",
    "                 \"e\" : [\"d\"]\n",
    "                 }\n",
    "\n",
    "g = graph(graph_elements)\n",
    "\n",
    "g.addVertex(\"f\")\n",
    "\n",
    "print(g.getVertices())"
   ]
  },
  {
   "cell_type": "code",
   "execution_count": 34,
   "id": "8f40d09c",
   "metadata": {},
   "outputs": [
    {
     "name": "stdout",
     "output_type": "stream",
     "text": [
      "['T', 'U', 'V', 'W', 'X', 'Z', 'S', 'Y']\n"
     ]
    }
   ],
   "source": [
    "#Latihan TUV\n",
    "graph_elements = { \"T\" : [\"U\",\"W\"],\n",
    "         \"U\" : [\"T\",\"V\"],\n",
    "         \"V\" : [\"U\",\"X\"],\n",
    "         \"W\" : [\"T\",\"X\",\"Z\"],\n",
    "         \"X\" : [\"V\",\"W\",\"S\"],\n",
    "         \"Z\" : [\"W\"],\n",
    "         \"S\" : [\"X\"]\n",
    "        }\n",
    "\n",
    "g = graph(graph_elements)\n",
    "\n",
    "g.addVertex(\"Y\")\n",
    "\n",
    "print(g.getVertices())"
   ]
  },
  {
   "cell_type": "code",
   "execution_count": 35,
   "id": "60a88e30",
   "metadata": {},
   "outputs": [
    {
     "name": "stdout",
     "output_type": "stream",
     "text": [
      "['R', 'O', 'M', 'L', 'P', 'N', 'Q']\n"
     ]
    }
   ],
   "source": [
    "#Latihan ROM\n",
    "graph_elements = { \"R\" : [\"L\",\"O\"],\n",
    "        \"O\" : [\"R\",\"P\",\"M\"],\n",
    "        \"M\" : [\"O\",\"N\"],\n",
    "        \"L\" : [\"R\",\"P\"],\n",
    "        \"P\" : [\"L\",\"O\",\"N\"],\n",
    "        \"N\" : [\"P\",\"M\"]\n",
    "        }\n",
    "\n",
    "g = graph(graph_elements)\n",
    "\n",
    "g.addVertex(\"Q\")\n",
    "\n",
    "print(g.getVertices())"
   ]
  },
  {
   "cell_type": "code",
   "execution_count": 28,
   "id": "d11aecea",
   "metadata": {},
   "outputs": [
    {
     "name": "stdout",
     "output_type": "stream",
     "text": [
      "[{'a', 'b'}, {'a', 'c'}, {'b', 'd'}, {'c', 'd'}, {'e', 'd'}, {'e', 'a'}]\n"
     ]
    }
   ],
   "source": [
    "#Menambah Edge / Sudut\n",
    "class graph:\n",
    "    def __init__(self,gdict=None):\n",
    "        if gdict is None:\n",
    "            gdict = {}\n",
    "        self.gdict = gdict\n",
    "\n",
    "    def edges(self):\n",
    "        return self.findedges()\n",
    "\n",
    "# Add the new edge\n",
    "    def AddEdge(self,edge):\n",
    "        edge = set(edge)\n",
    "        (vrtx1, vrtx2) = tuple(edge)\n",
    "        if vrtx1 in self.gdict:\n",
    "            self.gdict[vrtx1].append(vrtx2)\n",
    "        else:\n",
    "            self.gdict[vrtx1] = [vrtx2]\n",
    "            \n",
    "# List the edge names\n",
    "    def findedges(self):\n",
    "        edgename = []\n",
    "        for vrtx in self.gdict:\n",
    "            for nxtvrtx in self.gdict[vrtx]:\n",
    "                if {nxtvrtx, vrtx} not in edgename:\n",
    "                    edgename.append({vrtx, nxtvrtx})\n",
    "        return edgename\n",
    "\n",
    "# Create the dictionary with graph elements\n",
    "graph_elements = { \"a\" : [\"b\",\"c\"],\n",
    "                 \"b\" : [\"a\",\"d\"],\n",
    "                 \"c\" : [\"a\",\"d\"],\n",
    "                 \"d\" : [\"e\"],\n",
    "                 \"e\" : [\"d\"]\n",
    "                 }\n",
    "\n",
    "g = graph(graph_elements)\n",
    "g.AddEdge({'a','e'})\n",
    "g.AddEdge({'a','c'})\n",
    "print(g.edges())"
   ]
  },
  {
   "cell_type": "code",
   "execution_count": 31,
   "id": "72f04e16",
   "metadata": {},
   "outputs": [
    {
     "name": "stdout",
     "output_type": "stream",
     "text": [
      "[{'T', 'U'}, {'W', 'T'}, {'V', 'U'}, {'X', 'V'}, {'X', 'W'}, {'Z', 'W'}, {'W', 'U'}, {'X', 'S'}, {'Z', 'T'}]\n"
     ]
    }
   ],
   "source": [
    "#Latihan TUV\n",
    "graph_elements = { \"T\" : [\"U\",\"W\"],\n",
    "         \"U\" : [\"T\",\"V\"],\n",
    "         \"V\" : [\"U\",\"X\"],\n",
    "         \"W\" : [\"T\",\"X\",\"Z\"],\n",
    "         \"X\" : [\"V\",\"W\",\"S\"],\n",
    "         \"Z\" : [\"W\"],\n",
    "         \"S\" : [\"X\"]\n",
    "        }\n",
    "\n",
    "g = graph(graph_elements)\n",
    "g.AddEdge({'T','Z'})\n",
    "g.AddEdge({'U','W'})\n",
    "print(g.edges())\n"
   ]
  },
  {
   "cell_type": "code",
   "execution_count": 32,
   "id": "a466f1c9",
   "metadata": {},
   "outputs": [
    {
     "name": "stdout",
     "output_type": "stream",
     "text": [
      "[{'L', 'R'}, {'O', 'R'}, {'R', 'N'}, {'P', 'O'}, {'M', 'O'}, {'M', 'N'}, {'P', 'L'}, {'L', 'O'}, {'P', 'N'}]\n"
     ]
    }
   ],
   "source": [
    "#Latihan ROM\n",
    "graph_elements = { \"R\" : [\"L\",\"O\"],\n",
    "        \"O\" : [\"R\",\"P\",\"M\"],\n",
    "        \"M\" : [\"O\",\"N\"],\n",
    "        \"L\" : [\"R\",\"P\"],\n",
    "        \"P\" : [\"L\",\"O\",\"N\"],\n",
    "        \"N\" : [\"P\",\"M\"]\n",
    "        }\n",
    "\n",
    "g = graph(graph_elements)\n",
    "g.AddEdge({'R','N'})\n",
    "g.AddEdge({'O','L'})\n",
    "print(g.edges())"
   ]
  },
  {
   "cell_type": "code",
   "execution_count": null,
   "id": "42d3f75e",
   "metadata": {},
   "outputs": [],
   "source": []
  }
 ],
 "metadata": {
  "kernelspec": {
   "display_name": "Python 3 (ipykernel)",
   "language": "python",
   "name": "python3"
  },
  "language_info": {
   "codemirror_mode": {
    "name": "ipython",
    "version": 3
   },
   "file_extension": ".py",
   "mimetype": "text/x-python",
   "name": "python",
   "nbconvert_exporter": "python",
   "pygments_lexer": "ipython3",
   "version": "3.9.12"
  }
 },
 "nbformat": 4,
 "nbformat_minor": 5
}
